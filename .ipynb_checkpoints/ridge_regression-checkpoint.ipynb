{
 "cells": [
  {
   "cell_type": "markdown",
   "id": "13226b2e-e686-4707-bcc7-e6747ca3108a",
   "metadata": {
    "tags": []
   },
   "source": [
    "# Ucitavanje biblioteka za rad "
   ]
  },
  {
   "cell_type": "code",
   "execution_count": 1,
   "id": "9fc6717e-fa4b-41f8-a255-d8b8b0b644e5",
   "metadata": {},
   "outputs": [],
   "source": [
    "import numpy as np\n",
    "import pandas as pd\n",
    "import matplotlib.pyplot as plt\n",
    "import random\n",
    "import time\n",
    "\n",
    "random.seed(time.time())"
   ]
  },
  {
   "cell_type": "code",
   "execution_count": 2,
   "id": "426d6578-87cd-46f6-8f88-899a79ac39ee",
   "metadata": {},
   "outputs": [
    {
     "name": "stdout",
     "output_type": "stream",
     "text": [
      "Parametar S za broj indeksa 2021/3096 je 0, odnosno algoritam koji je potrebno implementirati je Rigde regresija.\n"
     ]
    }
   ],
   "source": [
    "# broj indeksa za studenta Jovan Dmitrović\n",
    "ind = '2021/3096'\n",
    "\n",
    "# odredjivanje parametra S \n",
    "S = 0\n",
    "for i in range(4):\n",
    "    S += int(ind[len(ind)-i-1])\n",
    "S %=3\n",
    "\n",
    "S_dict = {0: 'Rigde regresija',\n",
    "          1: 'LASSO regresija',\n",
    "          2: 'Lokalno ponderisana linearna regresija'}\n",
    "\n",
    "print(f'Parametar S za broj indeksa {ind} je {S}, odnosno algoritam koji je potrebno implementirati je {S_dict[S]}.')"
   ]
  },
  {
   "cell_type": "markdown",
   "id": "3e43abb0-5571-4376-ac93-cdd562f07b76",
   "metadata": {
    "tags": []
   },
   "source": [
    "# Ucitavanje podataka "
   ]
  },
  {
   "cell_type": "code",
   "execution_count": 3,
   "id": "cc601037-1b28-4542-91b1-7952c600f0a8",
   "metadata": {},
   "outputs": [
    {
     "name": "stdout",
     "output_type": "stream",
     "text": [
      "-------------------Ucitani su podaci-------------------\n",
      "Ukupan broj ucitanih primera je: 341\n",
      "Ukupan broj ucitanih prediktora (dim(X)) je: 5\n"
     ]
    }
   ],
   "source": [
    "data = pd.read_csv('data.csv').to_numpy()\n",
    "X, y = data[:,0:5], data[:,5]\n",
    "\n",
    "print('-------------------Ucitani su podaci-------------------')\n",
    "print(f'Ukupan broj ucitanih primera je: {X.shape[0]}')\n",
    "print(f'Ukupan broj ucitanih prediktora (dim(X)) je: {X.shape[1]}')\n"
   ]
  },
  {
   "cell_type": "markdown",
   "id": "dfbfb7f4-f624-48e9-b4a3-d63b309eeae3",
   "metadata": {},
   "source": [
    "# Teorijski osvrt"
   ]
  },
  {
   "cell_type": "markdown",
   "id": "12d438bd-7cf8-4c3a-8be1-5aaabffbbe2d",
   "metadata": {},
   "source": [
    "Dakle, potrebno je implementirati **Ridge regresiju**, koristeci se **polinomijalnom regresijom** ciji je red polinoma unapred odredjen zadatkom i iznosi 2. \n",
    "\n",
    "Polinomijalna regresija drugog reda ima sledeci oblik:\n",
    "$$\\hat{y} = \\theta_0 + \\theta_1x + \\theta_2x^2,$$\n",
    "\n",
    "U ovakvim slucajevima se javlja problem da mali red modela ogranicava ekspresivnost modela, odnosno model ne uspeva da dovoljno dobro isprati dinamiku koju unose ulazni podaci.\n",
    "Taj problem se resava na dva nacina:\n",
    "- ili povecavanjem reda modela (sto u vecini slucajeva nije dobro, jer dovodi do preobucavanja)\n",
    "- ili regularizacijom (odlicna metoda)\n",
    "\n",
    "Upravo jedan tip regularizacije, tzv. *L2* odnosno *Rigde* regularizaciju potrebno je implementirati ovde i inkorporirati u polinomijalnu regresiju drugog reda.\n",
    "\n",
    "Regularizacija se uvodi u kriterijumsku funkciju kao sabirak:\n",
    "$$J(\\theta) = L(\\hat{y}, y) + \\lambda R(\\theta),$$\n",
    "gde je $L(\\hat{y}, y)$ funkcija gubitka modela ((srednje) kvadratna greska), $\\lambda$ hiper-parametar regularizacija koji odredjuje koliko ce regulazacioni sabirak ($R(\\theta)$) biti penalizovan.\n",
    "\n",
    "Regularizaciona funkcija za Rigde regularizaciju ima sledeci oblik:\n",
    "$$R_{ridge}(\\theta) = \\sum_{i=1}^{n}{\\theta_i^2},$$ gde je $n$ ukupan broj prediktora, odnosno komponenti vektora $\\theta$, modela.\n",
    "\n",
    "Hiper-parametar regularizacije $\\lambda$ odredjujemo unakrsnom validacijom, minimizacijom (srednje) kvadratne greske."
   ]
  },
  {
   "cell_type": "code",
   "execution_count": 4,
   "id": "10b37f22-34d6-447f-8ef0-8d4932a93d01",
   "metadata": {},
   "outputs": [],
   "source": [
    "# red polinoma \n",
    "p=2\n",
    "\n",
    "# broj primera\n",
    "m = X.shape[0] # 341"
   ]
  },
  {
   "cell_type": "markdown",
   "id": "3335498e-54b9-475e-87bd-143c178fccb0",
   "metadata": {},
   "source": [
    "## Odredjivanje broja parametara vektora $\\theta$"
   ]
  },
  {
   "cell_type": "markdown",
   "id": "af9db836-25c1-4bef-9ef5-e29bc6e9d7c9",
   "metadata": {},
   "source": [
    "U pitanju je **Polinomijalna regresija**, pri cemu je red polimoma postavljen na $p=2$ i ona ima sledeci oblik:\n",
    "$$\\hat{y} = \\theta_0 + \\theta_1x + \\theta_2x^2,$$\n",
    "\n",
    "Ovakav oblik je validan kada je broj prediktora jedan 1. Medjutim, u slucajevima kada je broj prediktora razlicit od nule, postoje i unakrasna mnozenja pojedinacnih prediktora, po principu svaki sa svakim ($x_1x_2, x_1x_3, x_1x_4, x_1x_5, x_2x_3, ...$) i, naravno, postoje cisto kvadratni \"novi\" prediktori ($x_1^2, x_2^2, x_3^2, x_4^2, x_5^2$). \n",
    "\n",
    "Ukupan broj parametara u vektoru $\\theta$ odredjen je:\n",
    "- $\\theta_0$ srednja vrednost - #1 (ovu vrednost odredjujemo kao srednju vrednost izlaznih primera $y_i$)\n",
    "- 5 \"linearnih\" prediktora - #5\n",
    "- 5 \"kvadratnih\" prediktora - #5\n",
    "- kombinacija bez ponavljanja 5 \"linearnih\" prediktora - #10.\n",
    "\n",
    "Dakle, ukupno 21 parametar, koji se nalaze u vektoru $\\theta$, odnosno 20 prediktora."
   ]
  },
  {
   "cell_type": "code",
   "execution_count": 5,
   "id": "8cd637d2-4a6b-40a7-bad3-5a05c673baa0",
   "metadata": {},
   "outputs": [
    {
     "name": "stdout",
     "output_type": "stream",
     "text": [
      "Red polinoma: p = 2\n",
      "Broj prediktora: n = 20\n",
      "Broj primera: m = 341\n",
      "\n",
      "Odredjeni parametar theta0 je : 153.745\n"
     ]
    }
   ],
   "source": [
    "# broj prediktora \n",
    "n=20\n",
    "\n",
    "print(f'Red polinoma: p = {p}\\nBroj prediktora: n = {n}\\nBroj primera: m = {m}\\n')\n",
    "\n",
    "# theta 0\n",
    "theta0 = np.mean(y)\n",
    "\n",
    "print('Odredjeni parametar theta0 je : {:.3f}'.format(theta0))"
   ]
  },
  {
   "cell_type": "markdown",
   "id": "d3e67757-3752-4a2d-848f-94e47b5dedef",
   "metadata": {},
   "source": [
    "# Implementacija potrebnih funkcija"
   ]
  },
  {
   "cell_type": "code",
   "execution_count": 6,
   "id": "3603b4f8-86fa-401a-8c30-c7bf1c4cbb88",
   "metadata": {},
   "outputs": [],
   "source": [
    "def read_data(path: str='data.csv', separator_index: int=5) -> tuple:\n",
    "    \n",
    "    data = pd.read_csv('data.csv').to_numpy()\n",
    "    X, y = data[:,0:separator_index], data[:,separator_index]\n",
    "    \n",
    "    return X, y"
   ]
  },
  {
   "cell_type": "code",
   "execution_count": 7,
   "id": "acb6b5d2-d852-440c-a803-1490aa096d88",
   "metadata": {},
   "outputs": [],
   "source": [
    "def factoriel(n: int) -> int:\n",
    "    \n",
    "    \"\"\"\n",
    "        Funkcija za preracunavanje faktorijela nekog prirodnog broja.\n",
    "    \"\"\"\n",
    "    \n",
    "    f = 1\n",
    "    while n>1:\n",
    "        f *= n\n",
    "        n -=1\n",
    "    return f"
   ]
  },
  {
   "cell_type": "code",
   "execution_count": 8,
   "id": "7b8b48ad-1248-47fb-bd64-669bd38d8fa6",
   "metadata": {},
   "outputs": [],
   "source": [
    "def make_polynomial_features(X: np.ndarray, p: int=2) -> np.ndarray:\n",
    "    \n",
    "    \"\"\"\n",
    "        Funkcija za kreiranje polinomijalnih obelezja od \n",
    "        obelezja datih kroz n-dimenzionu matricu X. \n",
    "        \n",
    "        Broj kolona matrice X predstavlja broj prediktora, a broj njenih \n",
    "        vrsta prestavlja broj primera. \n",
    "        \n",
    "        Funkcija radi za drugi red polinoma (p=2).\n",
    "    \"\"\"\n",
    "    \n",
    "    # broj primera\n",
    "    m = X.shape[0] \n",
    "    \n",
    "    # stari broj prediktora - za linearnu regresiju\n",
    "    n_old = X.shape[1] \n",
    "    \n",
    "    # novi broj prediktora\n",
    "    n = int(p*n_old + factoriel(n_old)/(factoriel(n_old-p)*factoriel(p)))\n",
    "    \n",
    "    # kreiranje polinomijalnih obelezja svih stepena\n",
    "    features = []\n",
    "    for i in range(n_old):\n",
    "        features.append(list(X[:,i]))\n",
    "        \n",
    "        for j in range(n_old):\n",
    "            if j >= i:\n",
    "                product = X[:,i]*X[:,j]\n",
    "                features.append(list(product))\n",
    "    \n",
    "    return np.array(features, dtype='float32').reshape((m, n))"
   ]
  },
  {
   "cell_type": "code",
   "execution_count": 9,
   "id": "90962e4d-6618-412e-bc8d-2067201e2704",
   "metadata": {},
   "outputs": [],
   "source": [
    "def train_test_data_split(X: np.ndarray, y: np.ndarray, split_ratio: float=0.8) -> tuple:\n",
    "    \n",
    "    \"\"\"\n",
    "        Funkcija za splitovanje svih dostupnih podataka na trening/obucavajuce\n",
    "        i test podatke prema zadatom postotku (split_ratio).\n",
    "        \n",
    "    \"\"\"\n",
    "    \n",
    "    m = X.shape[0]\n",
    "    \n",
    "    train_set_size = int(m*split_ratio)\n",
    "    \n",
    "    ind = np.arange(0,m).tolist()\n",
    "    \n",
    "    train_set_ind = random.sample(ind, k=train_set_size)\n",
    "    test_set_ind = list(set(ind) - set(train_set_ind))\n",
    "    \n",
    "    X_train, y_train = X[train_set_ind], y[train_set_ind]\n",
    "    X_test, y_test = X[test_set_ind], y[test_set_ind]\n",
    "    \n",
    "    return X_train, y_train, X_test, y_test"
   ]
  },
  {
   "cell_type": "code",
   "execution_count": 10,
   "id": "dce867bf-8099-4e90-8051-433cf9115353",
   "metadata": {},
   "outputs": [],
   "source": [
    "def get_fold_indeces(m: int, k: int=5) -> list:\n",
    "    \n",
    "    \"\"\"\n",
    "        Funkcija za dohvatanje listi pocetnih i krajnjih indeksa\n",
    "        foldova na osnovu prosledjenog broja foldova - k i velicine celokupnog seta\n",
    "        podataka - m.\n",
    "        \n",
    "    \"\"\"\n",
    "    \n",
    "    fold_size = int(m/k)\n",
    "    \n",
    "    fold_indeces = []\n",
    "    \n",
    "    for i in range(k):\n",
    "        \n",
    "        fold_indeces.append([i*fold_size, (i+1)*fold_size if i != k-1 else m])\n",
    "    \n",
    "    return fold_indeces  "
   ]
  },
  {
   "cell_type": "code",
   "execution_count": 11,
   "id": "1d4292a2-a366-476f-a6a1-8af08b627d6d",
   "metadata": {},
   "outputs": [],
   "source": [
    "def get_fold(X: np.ndarray, y: np.ndarray, fold_index: list) -> tuple:\n",
    "    \n",
    "    \"\"\"\n",
    "        Funkcija za dohvatanje jednog folda podataka na osnovu proslednje\n",
    "        liste koja sadrzi pocetni i krajnji indeks jednog folda.\n",
    "    \"\"\"\n",
    "    \n",
    "    X_fold = X[fold_index[0]:fold_index[1],:]\n",
    "    \n",
    "    y_fold = y[fold_index[0]:fold_index[1]]\n",
    "    \n",
    "    return (X_fold, y_fold)"
   ]
  },
  {
   "cell_type": "code",
   "execution_count": 12,
   "id": "6ed9ddbd-8a72-49f8-b312-6bcc91d2fca5",
   "metadata": {},
   "outputs": [],
   "source": [
    "def concat_folds(fold_1: tuple, fold_2: tuple=None) -> tuple:\n",
    "    \n",
    "    \"\"\"\n",
    "        Funkcija za spajanje dva odvojena folda podataka \n",
    "        koji u sebi sadrze i ulazne i izlazne podatke.\n",
    "    \"\"\"\n",
    "    \n",
    "    try:\n",
    "        X_1, y_1 = fold_1[0], fold_1[1]\n",
    "        X_2, y_2 = fold_2[0], fold_2[1]\n",
    "\n",
    "        X_concat = np.concatenate((X_1, X_2), axis=0)\n",
    "        Y_concat = np.concatenate((y_1, y_2), axis=0)\n",
    "        \n",
    "    except:\n",
    "        X_1, y_1 = fold_1[0], fold_1[1]\n",
    "        return (X_1, y_1)\n",
    "    \n",
    "    return (X_concat, Y_concat)"
   ]
  },
  {
   "cell_type": "code",
   "execution_count": 13,
   "id": "ebdff2f5-c894-47a2-9767-c0d5cab40176",
   "metadata": {},
   "outputs": [],
   "source": [
    "def get_validation_and_train_folds(X: np.ndarray, y: np.ndarray, validation_fold_index: int, fold_indeces: list) -> tuple:\n",
    "    \n",
    "    \"\"\"\n",
    "        Funkcija za dohvatanje jednog folda podataka za validaciju i ostatak podataka\n",
    "        za obucavanje.\n",
    "    \"\"\"\n",
    "    \n",
    "    validation_fold = get_fold(X, y, fold_indeces[validation_fold_index])\n",
    "    \n",
    "    train_folds = None\n",
    "    \n",
    "    for i in range(len(fold_indeces)):\n",
    "        if i != validation_fold_index:\n",
    "            train_fold = get_fold(X, y, fold_indeces[i])\n",
    "            train_folds = concat_folds(train_fold, train_folds)\n",
    "    \n",
    "    return validation_fold, train_folds"
   ]
  },
  {
   "cell_type": "code",
   "execution_count": 14,
   "id": "c5385056-e396-48b6-8132-013042abf6e5",
   "metadata": {},
   "outputs": [],
   "source": [
    "def get_statistics(X: np.ndarray) -> tuple:\n",
    "    \n",
    "    \"\"\"\n",
    "        Funkcija za dohvatanje statistika - srednja vrednost i standardna devijacija. \n",
    "        Za svaka od kolona matrice X vrsi se izracunavanje statistika, s obzirom na to da\n",
    "        one predstavljaju posebne prediktore.\n",
    "    \"\"\"\n",
    "    \n",
    "    mu = np.zeros((X.shape[1],))\n",
    "    std = np.zeros((X.shape[1],))\n",
    "    \n",
    "    for i in range(X.shape[1]):\n",
    "        mu[i] = np.mean(X[:,i])\n",
    "        std[i] = np.std(X[:,i])\n",
    "    \n",
    "    return mu, std"
   ]
  },
  {
   "cell_type": "code",
   "execution_count": 15,
   "id": "20b5900b-9ead-472b-99d3-ec7810ca52e4",
   "metadata": {},
   "outputs": [],
   "source": [
    "def standardize(X: np.ndarray, mu: np.ndarray, std: np.ndarray) -> np.ndarray:\n",
    "    \n",
    "    \"\"\"\n",
    "        Funkcija za standardizaciju prediktora - postavljanje prediktora na istu skalu.\n",
    "        Svaka kolona matrice X se standardizuje sa sebi svojstvenim statistikama - mu i std,\n",
    "        s obzirom na to da su to posebni prediktori i da u opstem slucaju ne moraju biti na istoj skali.\n",
    "    \"\"\"\n",
    "    \n",
    "    for i in range(X.shape[1]):\n",
    "        X_std = X[:,i] - mu[i]*np.ones((X.shape[0],))\n",
    "        X[:,i] = X_std/std[i]\n",
    "        \n",
    "    return X"
   ]
  },
  {
   "cell_type": "code",
   "execution_count": 16,
   "id": "76693b2a-33fb-48b3-a464-d9485bd3d708",
   "metadata": {},
   "outputs": [],
   "source": [
    "def center_outputs(y: np.ndarray) -> float:\n",
    "    \n",
    "    \"\"\"\n",
    "        Funkcija za centriranje izlaznih podataka oko\n",
    "        sopstevene srednje vrednosti.\n",
    "    \"\"\"\n",
    "    \n",
    "    y_mean = np.mean(y)\n",
    "    \n",
    "    y_center = y-y_mean\n",
    "    \n",
    "    return y_center"
   ]
  },
  {
   "cell_type": "code",
   "execution_count": 17,
   "id": "825018ba-a9bb-473a-ba18-76b2c90bf804",
   "metadata": {},
   "outputs": [],
   "source": [
    "def calculate_theta_ridge(X: np.ndarray, y_center: np.ndarray, lambda_param: float) -> np.ndarray:\n",
    "    \n",
    "    \"\"\"\n",
    "        Funkcija za analiticko racunanje optimalnih parametara Theta koristeci se \n",
    "        Ridge regresijom. \n",
    "    \"\"\"\n",
    "    \n",
    "    n = X.shape[1]\n",
    "    theta = np.zeros((n,), dtype='float32')\n",
    "    \n",
    "    theta = np.linalg.inv(X.transpose()@X + lambda_param*np.identity(n))@X.transpose()@y_center\n",
    "    \n",
    "    return theta"
   ]
  },
  {
   "cell_type": "code",
   "execution_count": 18,
   "id": "62e63963-0426-4b62-a69d-ce318c47f341",
   "metadata": {},
   "outputs": [],
   "source": [
    "def l2_norm(vec_1: np.ndarray, vec_2: np.ndarray=None) -> float:\n",
    "    \n",
    "    \"\"\"\n",
    "        Funkcija za racunanje L2 norme vektora.\n",
    "        Racuna se suma kvadrata svih elemenata vektora.\n",
    "    \"\"\"\n",
    "    try:\n",
    "        l2_norm = sum((vec_1-vec_2)**2)\n",
    "    except:\n",
    "        l2_norm = sum(vec_1**2)\n",
    "    \n",
    "    return l2_norm"
   ]
  },
  {
   "cell_type": "code",
   "execution_count": 19,
   "id": "39c3d779-b191-4d0f-85a3-9f382c9f352b",
   "metadata": {},
   "outputs": [],
   "source": [
    "def predict(X: np.ndarray, theta: np.ndarray, theta0: float) -> np.ndarray:\n",
    "    \n",
    "    \"\"\"\n",
    "        Funkcija koja vrsi predikciju, odnosno daje estimirane\n",
    "        izlazne vrednosti na osnovu trenutno formiranog modela.\n",
    "    \"\"\"\n",
    "    \n",
    "    y_hat = theta0 + (theta.reshape(1,-1)@X.transpose()).flatten() \n",
    "    \n",
    "    return y_hat"
   ]
  },
  {
   "cell_type": "code",
   "execution_count": 20,
   "id": "339f0417-3d4a-41a2-9369-d2b0b48bffee",
   "metadata": {},
   "outputs": [],
   "source": [
    "def mse(y_hat: np.ndarray, y_true: np.ndarray, root: bool=False) -> float:\n",
    "    \n",
    "    \"\"\"\n",
    "        Funkcija za racunananje (korena) srednje kvadratne greske\n",
    "        predikcije modela. Dakle, ujedno funkcija za MSE i RMSE.\n",
    "    \"\"\"\n",
    "    \n",
    "    l = y_true.size\n",
    "    \n",
    "    if root:\n",
    "        value = (l2_norm(y_hat, y_true)/l)**0.5\n",
    "    else:\n",
    "        value = l2_norm(y_hat, y_true)/l\n",
    "    \n",
    "    return value"
   ]
  },
  {
   "cell_type": "code",
   "execution_count": 21,
   "id": "a9d2c55f-8233-4abd-92b8-2c87842302d9",
   "metadata": {},
   "outputs": [],
   "source": [
    "def loss(y_hat: np.ndarray, y_true: np.ndarray, theta: np.ndarray, lambda_param: float=0.0) -> float:\n",
    "    \n",
    "    \"\"\"\n",
    "        Funkcija za racunanje vrednosti funkcije gubitka - loss funkcije.\n",
    "        Tehnicki, ono se sada, tj. sa regularizacijom zove kriterijumska funkcija, ali zbog\n",
    "        lakseg asociranja, uzeto je ime funkcija gubitka.\n",
    "    \"\"\"\n",
    "    \n",
    "    mean_sq_error = mse(y_hat, y_true) \n",
    "    regularization_part = lambda_param*l2_norm(theta)\n",
    "    \n",
    "    loss = mean_sq_error + regularization_part\n",
    "    \n",
    "    return loss"
   ]
  },
  {
   "cell_type": "code",
   "execution_count": 22,
   "id": "92a00dde-1c08-4c9c-8c4d-9dd1f59cc91c",
   "metadata": {},
   "outputs": [],
   "source": [
    "def cv_ridge(X_train: np.ndarray, y_train: np.ndarray, theta0: float, lambda_param: float = 0.0, k: int=10, rmse: bool=False) -> tuple:\n",
    "    \n",
    "    \"\"\"\n",
    "        Funkcija za unakrsnu validaciju kod Ridge regresije.\n",
    "        U funkciji se vrsi sledece:\n",
    "            - splitovanje podataka na k foldova\n",
    "            - od k foldova, 1 je validacioni fold, a svi ostali su trenirajuci podaci\n",
    "            - racunanje srednje vrednosti i std. devijacije obucavajuceg skupa podataka\n",
    "            - standardizacija obucavajuceg i validacionog skupa sa prethodno izracunatim statistikama\n",
    "            - nakon toga se vrsi odredjivanje parametara regresije\n",
    "            - theta0 se odredjuje kao srednja vrednost necentriranih izlaznih vrednosti \n",
    "            - theta vektor se odredjuje analitickom folmulom\n",
    "            - potom se vrsi predikcija tako dobijenog modela za obucavajuci i validacioni skup podataka\n",
    "            - za obucavajuci i validacioni skup podataka se racuna funkcija gubitka modela - loss\n",
    "            - racunaju se srednje vrednosti i std. devijacije loss-ova za sve foldove i one se vracaju za obucavajuci i validacioni skup podataka\n",
    "    \"\"\"\n",
    "    \n",
    "    fold_indeces = get_fold_indeces(m=X_train.shape[0], k=k)\n",
    "    \n",
    "    loss_train, loss_val = [], []\n",
    "    rmse_train, rmse_val = [], []\n",
    "\n",
    "    for i in range(k):\n",
    "        validation_fold, train_folds = get_validation_and_train_folds(X_train, y_train, i, fold_indeces)\n",
    "\n",
    "        X_train_folds, y_train_folds = train_folds[0], train_folds[1]\n",
    "        X_val_fold, y_val_fold = validation_fold[0], validation_fold[1]\n",
    "\n",
    "        mu, std = get_statistics(X_train_folds)\n",
    "\n",
    "        X_train_folds_std = standardize(X_train_folds, mu, std)\n",
    "        X_val_fold_std = standardize(X_train_folds, mu, std)\n",
    "\n",
    "        theta = calculate_theta_ridge(X_train_folds_std, center_outputs(y_train_folds), lambda_param)\n",
    "\n",
    "        y_hat_train = predict(X_train_folds_std, theta, theta0)\n",
    "        loss_train.append(loss(y_hat_train, y_train_folds, theta, lambda_param))\n",
    "        rmse_train.append(mse(y_hat_train, y_train_folds, True))\n",
    "        \n",
    "        y_hat_val = predict(X_val_fold_std, theta, theta0)\n",
    "        loss_val.append(loss(y_hat_val, y_val_fold, theta))\n",
    "        rmse_val.append(mse(y_hat_val, y_val_fold, True))\n",
    "    \n",
    "    loss_mean_train, loss_std_train = np.mean(np.array(loss_train)), np.std(np.array(loss_train))\n",
    "    loss_mean_val, loss_std_val = np.mean(np.array(loss_val)), np.std(np.array(loss_val))\n",
    "    \n",
    "    rmse_mean_train, rmse_std_train = np.mean(np.array(rmse_train)), np.std(np.array(rmse_train))\n",
    "    rmse_mean_val, rmse_std_val = np.mean(np.array(rmse_val)), np.std(np.array(rmse_val))\n",
    "    \n",
    "    if rmse:\n",
    "        return rmse_mean_train, rmse_std_train, rmse_mean_val, rmse_std_val\n",
    "    \n",
    "    return loss_mean_train, loss_std_train, loss_mean_val, loss_std_val"
   ]
  },
  {
   "cell_type": "code",
   "execution_count": 23,
   "id": "c0cbb859-3f9f-482d-9f5b-fadc1497b1c5",
   "metadata": {},
   "outputs": [],
   "source": [
    "def optimal_lambda_search(X_train: np.ndarray, y_train: np.ndarray, lambdas: np.ndarray, k:int=10, verbose: bool=False) -> float:\n",
    "    \n",
    "    \"\"\"\n",
    "        Funkcija za pretrazivanje optimalnog hiper-parametra Rigde regresije.\n",
    "        Funkcija vrsi unakrsnu validaciju za svako lambda iz prosledjenog niza lambdas \n",
    "        i odredjuje optimalnu vrednost lambda parametra kao onu koja je dala minimalnu\n",
    "        vrednost srednje kvadratne greske na validacionom skupu.\n",
    "    \"\"\"\n",
    "    \n",
    "    theta0 = np.mean(y_train)\n",
    "    \n",
    "    mean_train_list, std_train_list = [], []\n",
    "    mean_val_list, std_val_list = [], []\n",
    "\n",
    "    for i, lambda_param in enumerate(lambdas):\n",
    "        mean_train, std_train, mean_val, std_val = cv_ridge(X_train, y_train, theta0, lambda_param, k)\n",
    "\n",
    "        mean_train_list.append(mean_train)\n",
    "        std_train_list.append(std_train)\n",
    "\n",
    "        mean_val_list.append(mean_val)\n",
    "        std_val_list.append(std_val)\n",
    "        \n",
    "        if verbose:\n",
    "            percentage = 100*i/lambdas.size\n",
    "            print('Pretrazeno je {:.5}% prosledjenih podataka.'.format(percentage), end='\\r')\n",
    "\n",
    "    mean_train_arr = np.array(mean_train_list)\n",
    "    std_train_arr = np.array(std_train_list)\n",
    "\n",
    "    mean_val_arr = np.array(mean_val_list)\n",
    "    std_val_arr = np.array(std_val_list)\n",
    "\n",
    "    fig = plt.figure(figsize=(10,8), dpi=100)\n",
    "    plt.plot(lambdas, mean_train_arr, color='darkorange', label='obucavajuci skup')\n",
    "    plt.fill_between(lambdas, mean_train_arr - std_train_arr, mean_train_arr + std_train_arr, alpha=0.2, color='bisque')\n",
    "\n",
    "    plt.plot(lambdas, mean_val_arr, color='royalblue', label='validacioni skup')\n",
    "    plt.fill_between(lambdas, mean_val_arr - std_val_arr, mean_val_arr + std_val_arr, alpha=0.2, color='lightsteelblue')\n",
    "\n",
    "    plt.xlabel('$\\lambda$')\n",
    "    plt.ylabel('Loss')\n",
    "    plt.title('Loss funkcija na obucavajucem i validacionom skupu u zavisnosti od $\\lambda$')\n",
    "    plt.legend(loc='best')\n",
    "    plt.show()\n",
    "    \n",
    "    lambda_opt = lambdas[np.argmin(mean_val_arr)]\n",
    "    print(f'Pronadjena je optimalna vrednost hiper-parametra Lambda: {lambda_opt}')\n",
    "    \n",
    "    return lambda_opt"
   ]
  },
  {
   "cell_type": "code",
   "execution_count": 24,
   "id": "fa893f8f-843f-4a7f-bbd0-88c97040c21f",
   "metadata": {},
   "outputs": [],
   "source": [
    "def train_with_optimal_lambda(X_train: np.ndarray, y_train: np.ndarray, lambda_opt: float, k: int=10) -> tuple:\n",
    "    \n",
    "    \"\"\"\n",
    "        Funkcija za analiticko odredjivanje (da nije u pitanju Ridge regresija, bilo bi treniranje,\n",
    "        te otuda i ime 'train') parametara theta0 i vektora theta nad celim obucavajucim skupom i to \n",
    "        sa optimalno izabranim parametrom lambda.\n",
    "    \"\"\"\n",
    "    \n",
    "    theta0 = np.mean(y_train)\n",
    "    \n",
    "    mu, std = get_statistics(X_train)\n",
    "    X_train_std = standardize(X_train, mu, std)\n",
    "    \n",
    "    theta = calculate_theta_ridge(X_train_std, center_outputs(y_train), lambda_opt)\n",
    "    \n",
    "    return theta, theta0"
   ]
  },
  {
   "cell_type": "code",
   "execution_count": 25,
   "id": "7df26e21-4551-4f39-af67-5627dc829dd1",
   "metadata": {},
   "outputs": [],
   "source": [
    "def estimate_new_data(X: np.ndarray, theta: np.ndarray, theta0: float) -> np.ndarray:\n",
    "    \n",
    "    \"\"\"\n",
    "       Funkcija za procenjivanje izlaza na osnovu zadate matrice prediktora X - ulaza.\n",
    "       Funkcija sluzi za test podatke.\n",
    "       Funkcija formira novu matricu polinomijalnih prediktora (radi samo za red polinoma 2),\n",
    "       potom standardizuje sve dobijene prediktore i na kraju vrsi predikciju izlaza\n",
    "       na osnovu prosledjenih paramatera modela - theta.\n",
    "    \"\"\"\n",
    "    \n",
    "    X_poly = make_polynomial_features(X)\n",
    "    \n",
    "    mu, std = get_statistics(X_poly)\n",
    "    X_poly_std = standardize(X, mu, std)\n",
    "    \n",
    "    y_hat = predict(X_poly_std, theta, theta0)\n",
    "    \n",
    "    return y_hat"
   ]
  },
  {
   "cell_type": "markdown",
   "id": "ecc017cf-fb83-4686-91fa-ba3c11aa5d9d",
   "metadata": {},
   "source": [
    "# Trazenje adekvatnog hiper-parametra $\\lambda$"
   ]
  },
  {
   "cell_type": "code",
   "execution_count": 26,
   "id": "828e569f-5153-4bf3-ae7d-40c1006ff180",
   "metadata": {},
   "outputs": [
    {
     "name": "stdout",
     "output_type": "stream",
     "text": [
      "Pretrazeno je 99.9% prosledjenih podataka.\r"
     ]
    },
    {
     "data": {
      "image/png": "[encoded data removed]",
      "text/plain": [
       "<Figure size 1000x800 with 1 Axes>"
      ]
     },
     "metadata": {
      "needs_background": "light"
     },
     "output_type": "display_data"
    },
    {
     "name": "stdout",
     "output_type": "stream",
     "text": [
      "Pronadjena je optimalna vrednost hiper-parametra Lambda: 10.0\n"
     ]
    }
   ],
   "source": [
    "X, y = read_data()\n",
    "X = make_polynomial_features(X)\n",
    "X_train, y_train, X_test, y_test = train_test_data_split(X, y, split_ratio=0.8)\n",
    "\n",
    "lambdas = np.linspace(0.1, 10, 1000)\n",
    "\n",
    "lambda_opt = optimal_lambda_search(X_train, y_train, lambdas, k=10, verbose=True)"
   ]
  },
  {
   "cell_type": "markdown",
   "id": "73a883ad-6d13-4bb9-a5eb-390f0762aab5",
   "metadata": {},
   "source": [
    "# Ucenje parametera modela sa optimalnim parametrom $\\lambda$"
   ]
  },
  {
   "cell_type": "code",
   "execution_count": 27,
   "id": "239b1438-4fdb-49e0-9649-2589caf247bb",
   "metadata": {},
   "outputs": [
    {
     "name": "stdout",
     "output_type": "stream",
     "text": [
      "Procenjena vrednost korena srednje kvadratne greske modela na obucavajucem skupu iznosi 74.792.\n",
      "Procenjena vrednost korena srednje kvadratne greske modela na validacionom skupu iznosi 469.759.\n"
     ]
    }
   ],
   "source": [
    "theta, theta0 = train_with_optimal_lambda(X_train, y_train, lambda_opt, k=10)\n",
    "\n",
    "# [TODO] napraviti funkciju za cuvanje parametara u nekom fajlu\n",
    "\n",
    "# [TODO] napraviti pd.DataFrame za ispis vrednosti parametara\n",
    "\n",
    "train_rmse, _, val_rmse, _ = cv_ridge(X_train, y_train, theta0, lambda_opt, k=10, rmse=True)\n",
    "print('Procenjena vrednost korena srednje kvadratne greske modela na obucavajucem skupu iznosi {:.3f}.'.format(train_rmse))\n",
    "print('Procenjena vrednost korena srednje kvadratne greske modela na validacionom skupu iznosi {:.3f}.'.format(val_rmse))"
   ]
  },
  {
   "cell_type": "markdown",
   "id": "32ea4bfd-fb21-4447-8000-6a93116308aa",
   "metadata": {},
   "source": [
    "# Evaluacija modela na test skupu"
   ]
  },
  {
   "cell_type": "code",
   "execution_count": 28,
   "id": "9450985a-48db-46be-8a2b-c266ec03da35",
   "metadata": {},
   "outputs": [
    {
     "name": "stdout",
     "output_type": "stream",
     "text": [
      "Procenjena vrednost korena srednje kvadratne greske modela na test skupu iznosi 147.895.\n"
     ]
    }
   ],
   "source": [
    "y_test_hat = estimate_new_data(X_test, theta, theta0)\n",
    "\n",
    "test_rmse = mse(y_test_hat, y_test, root=True)\n",
    "print('Procenjena vrednost korena srednje kvadratne greske modela na test skupu iznosi {:.3f}.'.format(test_rmse)) # ovo se razlikuje svakim pokretanjem\n",
    "\n",
    "# [TODO] napraviti pd.DataFrame za ispis ovih vrednosti RMSE-a"
   ]
  },
  {
   "cell_type": "code",
   "execution_count": null,
   "id": "76d998cc-2dcc-431a-bac5-d19351f28d3c",
   "metadata": {},
   "outputs": [],
   "source": []
  },
  {
   "cell_type": "code",
   "execution_count": null,
   "id": "f4d33a05-6d31-4177-8a40-44bc90cd8bb7",
   "metadata": {},
   "outputs": [],
   "source": []
  }
 ],
 "metadata": {
  "kernelspec": {
   "display_name": "Python 3",
   "language": "python",
   "name": "python3"
  },
  "language_info": {
   "codemirror_mode": {
    "name": "ipython",
    "version": 3
   },
   "file_extension": ".py",
   "mimetype": "text/x-python",
   "name": "python",
   "nbconvert_exporter": "python",
   "pygments_lexer": "ipython3",
   "version": "3.7.8"
  }
 },
 "nbformat": 4,
 "nbformat_minor": 5
}
